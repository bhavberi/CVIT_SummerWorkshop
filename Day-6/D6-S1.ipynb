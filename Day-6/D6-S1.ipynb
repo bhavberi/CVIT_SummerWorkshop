{
 "cells": [
  {
   "cell_type": "markdown",
   "metadata": {
    "id": "h6hjehhHW4tC"
   },
   "source": [
    "# Using wandb to track experiments.\n",
    "\n",
    "Demo task: multi-class image classification using CIFAR10 dataset."
   ]
  },
  {
   "cell_type": "code",
   "execution_count": 1,
   "metadata": {
    "id": "OUnLA0ASMK4Z"
   },
   "outputs": [],
   "source": [
    "from sklearn.metrics import average_precision_score\n",
    "from torch.utils.data import DataLoader\n",
    "from torchvision import datasets, models\n",
    "from torchvision import transforms as T\n",
    "from tqdm import tqdm\n",
    "\n",
    "import torch\n",
    "import torch.nn as nn\n",
    "import torch.optim as optim\n",
    "\n",
    "\n",
    "device = torch.device(\"cuda\" if torch.cuda.is_available() else \"cpu\")\n"
   ]
  },
  {
   "cell_type": "code",
   "execution_count": 2,
   "metadata": {
    "colab": {
     "base_uri": "https://localhost:8080/"
    },
    "id": "avJ_Ypz9II4O",
    "outputId": "228836db-650d-487c-c351-4162d7d35116"
   },
   "outputs": [
    {
     "name": "stdout",
     "output_type": "stream",
     "text": [
      "Looking in indexes: https://pypi.org/simple, https://us-python.pkg.dev/colab-wheels/public/simple/\n",
      "Collecting wandb\n",
      "  Downloading wandb-0.15.3-py3-none-any.whl (2.0 MB)\n",
      "\u001b[2K     \u001b[90m━━━━━━━━━━━━━━━━━━━━━━━━━━━━━━━━━━━━━━━━\u001b[0m \u001b[32m2.0/2.0 MB\u001b[0m \u001b[31m23.0 MB/s\u001b[0m eta \u001b[36m0:00:00\u001b[0m\n",
      "\u001b[?25hRequirement already satisfied: Click!=8.0.0,>=7.0 in /usr/local/lib/python3.10/dist-packages (from wandb) (8.1.3)\n",
      "Collecting GitPython!=3.1.29,>=1.0.0 (from wandb)\n",
      "  Downloading GitPython-3.1.31-py3-none-any.whl (184 kB)\n",
      "\u001b[2K     \u001b[90m━━━━━━━━━━━━━━━━━━━━━━━━━━━━━━━━━━━━━━\u001b[0m \u001b[32m184.3/184.3 kB\u001b[0m \u001b[31m22.5 MB/s\u001b[0m eta \u001b[36m0:00:00\u001b[0m\n",
      "\u001b[?25hRequirement already satisfied: requests<3,>=2.0.0 in /usr/local/lib/python3.10/dist-packages (from wandb) (2.27.1)\n",
      "Requirement already satisfied: psutil>=5.0.0 in /usr/local/lib/python3.10/dist-packages (from wandb) (5.9.5)\n",
      "Collecting sentry-sdk>=1.0.0 (from wandb)\n",
      "  Downloading sentry_sdk-1.24.0-py2.py3-none-any.whl (206 kB)\n",
      "\u001b[2K     \u001b[90m━━━━━━━━━━━━━━━━━━━━━━━━━━━━━━━━━━━━━━\u001b[0m \u001b[32m206.5/206.5 kB\u001b[0m \u001b[31m25.1 MB/s\u001b[0m eta \u001b[36m0:00:00\u001b[0m\n",
      "\u001b[?25hCollecting docker-pycreds>=0.4.0 (from wandb)\n",
      "  Downloading docker_pycreds-0.4.0-py2.py3-none-any.whl (9.0 kB)\n",
      "Requirement already satisfied: PyYAML in /usr/local/lib/python3.10/dist-packages (from wandb) (6.0)\n",
      "Collecting pathtools (from wandb)\n",
      "  Downloading pathtools-0.1.2.tar.gz (11 kB)\n",
      "  Preparing metadata (setup.py) ... \u001b[?25l\u001b[?25hdone\n",
      "Collecting setproctitle (from wandb)\n",
      "  Downloading setproctitle-1.3.2-cp310-cp310-manylinux_2_5_x86_64.manylinux1_x86_64.manylinux_2_17_x86_64.manylinux2014_x86_64.whl (30 kB)\n",
      "Requirement already satisfied: setuptools in /usr/local/lib/python3.10/dist-packages (from wandb) (67.7.2)\n",
      "Requirement already satisfied: appdirs>=1.4.3 in /usr/local/lib/python3.10/dist-packages (from wandb) (1.4.4)\n",
      "Requirement already satisfied: protobuf!=4.21.0,<5,>=3.19.0 in /usr/local/lib/python3.10/dist-packages (from wandb) (3.20.3)\n",
      "Requirement already satisfied: six>=1.4.0 in /usr/local/lib/python3.10/dist-packages (from docker-pycreds>=0.4.0->wandb) (1.16.0)\n",
      "Collecting gitdb<5,>=4.0.1 (from GitPython!=3.1.29,>=1.0.0->wandb)\n",
      "  Downloading gitdb-4.0.10-py3-none-any.whl (62 kB)\n",
      "\u001b[2K     \u001b[90m━━━━━━━━━━━━━━━━━━━━━━━━━━━━━━━━━━━━━━━━\u001b[0m \u001b[32m62.7/62.7 kB\u001b[0m \u001b[31m9.1 MB/s\u001b[0m eta \u001b[36m0:00:00\u001b[0m\n",
      "\u001b[?25hRequirement already satisfied: urllib3<1.27,>=1.21.1 in /usr/local/lib/python3.10/dist-packages (from requests<3,>=2.0.0->wandb) (1.26.15)\n",
      "Requirement already satisfied: certifi>=2017.4.17 in /usr/local/lib/python3.10/dist-packages (from requests<3,>=2.0.0->wandb) (2022.12.7)\n",
      "Requirement already satisfied: charset-normalizer~=2.0.0 in /usr/local/lib/python3.10/dist-packages (from requests<3,>=2.0.0->wandb) (2.0.12)\n",
      "Requirement already satisfied: idna<4,>=2.5 in /usr/local/lib/python3.10/dist-packages (from requests<3,>=2.0.0->wandb) (3.4)\n",
      "Collecting smmap<6,>=3.0.1 (from gitdb<5,>=4.0.1->GitPython!=3.1.29,>=1.0.0->wandb)\n",
      "  Downloading smmap-5.0.0-py3-none-any.whl (24 kB)\n",
      "Building wheels for collected packages: pathtools\n",
      "  Building wheel for pathtools (setup.py) ... \u001b[?25l\u001b[?25hdone\n",
      "  Created wheel for pathtools: filename=pathtools-0.1.2-py3-none-any.whl size=8791 sha256=44cccc22dba0a9f2bf6ce73bf2c9271a9f451ece4e2059b09fc6d283f5aad478\n",
      "  Stored in directory: /root/.cache/pip/wheels/e7/f3/22/152153d6eb222ee7a56ff8617d80ee5207207a8c00a7aab794\n",
      "Successfully built pathtools\n",
      "Installing collected packages: pathtools, smmap, setproctitle, sentry-sdk, docker-pycreds, gitdb, GitPython, wandb\n",
      "Successfully installed GitPython-3.1.31 docker-pycreds-0.4.0 gitdb-4.0.10 pathtools-0.1.2 sentry-sdk-1.24.0 setproctitle-1.3.2 smmap-5.0.0 wandb-0.15.3\n",
      "\u001b[34m\u001b[1mwandb\u001b[0m: Logging into wandb.ai. (Learn how to deploy a W&B server locally: https://wandb.me/wandb-server)\n",
      "\u001b[34m\u001b[1mwandb\u001b[0m: You can find your API key in your browser here: https://wandb.ai/authorize\n",
      "\u001b[34m\u001b[1mwandb\u001b[0m: Paste an API key from your profile and hit enter, or press ctrl+c to quit: \n",
      "\u001b[34m\u001b[1mwandb\u001b[0m: Appending key for api.wandb.ai to your netrc file: /root/.netrc\n"
     ]
    }
   ],
   "source": [
    "!pip install wandb\n",
    "\n",
    "!wandb login\n",
    "# Put your API key here"
   ]
  },
  {
   "cell_type": "markdown",
   "metadata": {
    "id": "s8hEreACXETi"
   },
   "source": [
    "# The next cell includes-\n",
    "- Collecting the CIFAR10 dataset and defining data loaders.\n",
    "- Methods to load model, criterion, optimizer and schedulers.\n",
    "- Definition of AverageMeter"
   ]
  },
  {
   "cell_type": "code",
   "execution_count": 3,
   "metadata": {
    "colab": {
     "base_uri": "https://localhost:8080/"
    },
    "id": "N0IyFq2jMUTZ",
    "outputId": "313aa092-dea4-4992-d656-ffec3f8118b7"
   },
   "outputs": [
    {
     "name": "stdout",
     "output_type": "stream",
     "text": [
      "Downloading https://www.cs.toronto.edu/~kriz/cifar-10-python.tar.gz to /./cifar-10-python.tar.gz\n"
     ]
    },
    {
     "name": "stderr",
     "output_type": "stream",
     "text": [
      "100%|██████████| 170498071/170498071 [00:05<00:00, 30752035.15it/s]\n"
     ]
    },
    {
     "name": "stdout",
     "output_type": "stream",
     "text": [
      "Extracting /./cifar-10-python.tar.gz to /.\n"
     ]
    }
   ],
   "source": [
    "# Downloading CIFAR10 dataset\n",
    "inp_transforms = T.Compose([T.ToTensor(),\n",
    "                            T.Normalize(mean=[0.485, 0.456, 0.406],\n",
    "                                        std=[0.229, 0.224, 0.225])])\n",
    "tgt_transforms = T.Lambda(lambda y: torch.zeros(10, dtype=torch.long).scatter_(0, torch.tensor(y), value=1))\n",
    "cifar10 = datasets.CIFAR10(root = \"/.\",\n",
    "                           transform = inp_transforms,\n",
    "                           target_transform = tgt_transforms,\n",
    "                           download = True)\n",
    "\n",
    "# Defining dataset split (80-20)\n",
    "train_dataset, val_dataset = torch.utils.data.random_split(cifar10,\n",
    "                                                           [int(len(cifar10)*0.80), int(len(cifar10)*0.20)])\n",
    "\n",
    "# Defining the dataloaders\n",
    "train_dataloader = DataLoader(train_dataset,\n",
    "                              batch_size=200,\n",
    "                              shuffle=True)\n",
    "val_dataloader = DataLoader(val_dataset,\n",
    "                            batch_size=200,\n",
    "                            shuffle=False)\n",
    "\n",
    "\n",
    "# Method to get model based on config param model_type\n",
    "def get_model(model_type):\n",
    "    model = None\n",
    "    if model_type == \"pretrained\": # Loading pretrained ResNet18 and with updated to final fc layer. \n",
    "        model = models.resnet18(pretrained=True)\n",
    "        model.fc = nn.Linear(512, 10)\n",
    "        model = model.to(device)\n",
    "    elif model_type == \"scratch\": # Loading a blank ResNet18 which generated 10 outputs.\n",
    "        model = models.resnet18(num_classes=10)\n",
    "        model = model.to(device)\n",
    "    else:\n",
    "        raise NotImplemented\n",
    "    return model\n",
    "\n",
    "\n",
    "# Method to get criterion, optimizer and scheduler based on config params.\n",
    "def get_criterion_optimizer_scheduler(config, model):\n",
    "    optim_dct = {\n",
    "        \"adam\": optim.Adam,\n",
    "        \"SGD\": optim.SGD,\n",
    "        \"RMSprop\": optim.RMSprop\n",
    "    }\n",
    "    optimizer = optim_dct[config[\"optimizer\"]](model.parameters(), lr=config[\"lr\"])\n",
    "    scheduler = torch.optim.lr_scheduler.ReduceLROnPlateau(optimizer,\n",
    "                                                           factor=0.1,\n",
    "                                                           patience=config[\"scheduler_patience\"],\n",
    "                                                           threshold=config[\"scheduler_thresh\"])\n",
    "    criterion = nn.CrossEntropyLoss()\n",
    "    return criterion, optimizer, scheduler\n",
    "\n",
    "\n",
    "\n",
    "# Remainder of this cell includes definition of AverageMeter (can be ignored)\n",
    "\"\"\"\n",
    "Code taken from Pytorch ImageNet examples\n",
    "https://github.com/pytorch/examples/blob/main/imagenet/main.py#L375\n",
    "\"\"\"\n",
    "class Summary():\n",
    "    NONE = 0\n",
    "    AVERAGE = 1\n",
    "    SUM = 2\n",
    "    COUNT = 3\n",
    "\n",
    "class AverageMeter(object):\n",
    "    \"\"\"Computes and stores the average and current value\"\"\"\n",
    "    def __init__(self, name, fmt=':f', summary_type=Summary.AVERAGE):\n",
    "        self.name = name\n",
    "        self.fmt = fmt\n",
    "        self.summary_type = summary_type\n",
    "        self.val_history = list()\n",
    "        self.reset()\n",
    "\n",
    "    def reset(self):\n",
    "        self.val = 0\n",
    "        self.avg = 0\n",
    "        self.sum = 0\n",
    "        self.count = 0\n",
    "        self.val_history = list()\n",
    "\n",
    "    def update(self, val, n=1):\n",
    "        self.val = val\n",
    "        self.sum += val * n\n",
    "        self.count += n\n",
    "        self.avg = self.sum / self.count\n",
    "        self.val_history.append(val)\n",
    "\n",
    "    def __str__(self):\n",
    "        fmtstr = '{name} {val' + self.fmt + '} ({avg' + self.fmt + '})'\n",
    "        return fmtstr.format(**self.__dict__)\n",
    "    \n",
    "    def summary(self):\n",
    "        fmtstr = ''\n",
    "        if self.summary_type is Summary.NONE:\n",
    "            fmtstr = ''\n",
    "        elif self.summary_type is Summary.AVERAGE:\n",
    "            fmtstr = '{name} {avg:.3f}'\n",
    "        elif self.summary_type is Summary.SUM:\n",
    "            fmtstr = '{name} {sum:.3f}'\n",
    "        elif self.summary_type is Summary.COUNT:\n",
    "            fmtstr = '{name} {count:.3f}'\n",
    "        else:\n",
    "            raise ValueError('invalid summary type %r' % self.summary_type)        \n",
    "        return fmtstr.format(**self.__dict__)\n"
   ]
  },
  {
   "cell_type": "markdown",
   "metadata": {
    "id": "UIEngQlXXfi6"
   },
   "source": [
    "# Following cell includes-\n",
    "- Defining the train and eval loops.\n",
    "- Method to trigger training loops based on config parameters."
   ]
  },
  {
   "cell_type": "code",
   "execution_count": 4,
   "metadata": {
    "id": "jfchRAmxMcoF"
   },
   "outputs": [],
   "source": [
    "# The train function without wandb logging\n",
    "\n",
    "def train(model, criterion, optimizer, scheduler, epochs, train_dataloader, val_dataloader, device):\n",
    "    for epoch in range(epochs):\n",
    "        model.train()\n",
    "        loss_meter = AverageMeter(\"train_loss\", \":.5f\")\n",
    "        epoch_outs, epoch_tgt = list(), list()\n",
    "        for data, tgt_vec in tqdm(train_dataloader):\n",
    "            data, tgt_vec = data.to(device), tgt_vec.to(device)\n",
    "            targets = torch.argmax(tgt_vec, axis=1)\n",
    "            optimizer.zero_grad()\n",
    "            out = model(data)\n",
    "            loss = criterion(out, targets)\n",
    "            loss_meter.update(loss.item(), data.shape[0])\n",
    "            loss.backward()\n",
    "            optimizer.step()\n",
    "            epoch_outs.append(out)\n",
    "            epoch_tgt.append(tgt_vec)\n",
    "        predictions = torch.vstack([torch.softmax(out, axis=1) for out in epoch_outs]).detach().cpu().numpy()\n",
    "        targets = torch.cat([tgt for tgt in epoch_tgt], dim=0).detach().cpu().numpy()\n",
    "        ap_score = average_precision_score(targets, predictions)\n",
    "        eval_loss_meter, eval_ap_score = evaluate(model, criterion, val_dataloader, device)\n",
    "        data_to_log = {\n",
    "            \"epoch\": epoch+1,\n",
    "            \"train_loss\": loss_meter.avg,\n",
    "            \"eval_loss\": eval_loss_meter.avg,\n",
    "            \"train_ap_score\": ap_score,\n",
    "            \"eval_ap_score\": eval_ap_score,\n",
    "            \"lr\": optimizer.state_dict()[\"param_groups\"][0][\"lr\"],\n",
    "        }\n",
    "        scheduler.step(eval_loss_meter.avg)\n",
    "        print(data_to_log)\n",
    "        wandb.log(data_to_log)\n",
    "\n",
    "\n",
    "@torch.no_grad()\n",
    "def evaluate(model, criterion, val_dataloader, device):\n",
    "    model.eval()\n",
    "    loss_meter = AverageMeter(\"eval_loss\", \":.5f\")\n",
    "    epoch_outs, epoch_tgt = list(), list()\n",
    "    for data, tgt_vec in val_dataloader:\n",
    "        data, tgt_vec = data.to(device), tgt_vec.to(device)\n",
    "        targets = torch.argmax(tgt_vec, axis=1)\n",
    "        out = model(data)\n",
    "        loss = criterion(out, targets)\n",
    "        loss_meter.update(loss.item(), data.shape[0])\n",
    "        epoch_outs.append(out)\n",
    "        epoch_tgt.append(tgt_vec)\n",
    "    predictions = torch.vstack([torch.softmax(out, axis=1) for out in epoch_outs]).detach().cpu().numpy()\n",
    "    targets = torch.cat([tgt for tgt in epoch_tgt], dim=0).detach().cpu().numpy()\n",
    "    ap_score = average_precision_score(targets, predictions)\n",
    "    return loss_meter, ap_score\n",
    "\n",
    "\n",
    "def trigger_training(config):\n",
    "    model = get_model(config[\"model_type\"])\n",
    "    criterion, optimizer, scheduler = get_criterion_optimizer_scheduler(config, model)\n",
    "    epochs = config[\"num_epochs\"]\n",
    "\n",
    "    train(model, criterion, optimizer, scheduler, epochs, train_dataloader, val_dataloader, device)\n"
   ]
  },
  {
   "cell_type": "markdown",
   "metadata": {
    "id": "Jtb0ll98YTB0"
   },
   "source": [
    "# Complete the config file, edit the cells in this notebook to log data to wandb and trigger training loops!"
   ]
  },
  {
   "cell_type": "code",
   "execution_count": 5,
   "metadata": {
    "id": "2XWOBnxhMkdl"
   },
   "outputs": [],
   "source": [
    "# Fill the Config file below and log the experiment at wandb\n",
    "config = {\n",
    "    \"lr\": 0.0, \n",
    "    \"model_type\": \"scratch\", # pretrained/scratch\n",
    "    \"optimizer\": \"adam\", # adam/SGD/RMSprop\n",
    "    \"criterion\": \"ce\",\n",
    "    \"scheduler_patience\": 3,\n",
    "    \"scheduler_thresh\": 0.001,\n",
    "    \"num_epochs\": 40, # CHANGE\n",
    "    \"gpu_id\": 0,\n",
    "    \"wandb_run_name\": \"bhav\" ### FILL YOUR NAME HERE\n",
    "}\n"
   ]
  },
  {
   "cell_type": "code",
   "execution_count": 6,
   "metadata": {
    "id": "UdN1CrAzJd5O"
   },
   "outputs": [],
   "source": [
    "import wandb"
   ]
  },
  {
   "cell_type": "code",
   "execution_count": 7,
   "metadata": {
    "colab": {
     "base_uri": "https://localhost:8080/",
     "height": 185,
     "referenced_widgets": [
      "8c1cd2db6dd04f738d4f4a300be4f14b",
      "c201b17bebae49a1a54f938ad47939f0",
      "86c96e9c08614502aa96089021bc9616",
      "aec69cc540c643a693c53dfd4f3b89a6",
      "ca6690b9f368419b9d00f1d9eab6d017",
      "5d2bb9b2944746ad8b13ba556ec136b4",
      "903d5b321a7f446684f4822886e2af58",
      "370ce9ab2b9a4ba6acbd396b537278ed"
     ]
    },
    "id": "GXYkFONSJfrY",
    "outputId": "03afa3f0-03e2-4e62-cdce-5da4d7fb4b6f"
   },
   "outputs": [
    {
     "name": "stderr",
     "output_type": "stream",
     "text": [
      "\u001b[34m\u001b[1mwandb\u001b[0m: Currently logged in as: \u001b[33mbhavberi\u001b[0m. Use \u001b[1m`wandb login --relogin`\u001b[0m to force relogin\n"
     ]
    },
    {
     "data": {
      "application/vnd.jupyter.widget-view+json": {
       "model_id": "8c1cd2db6dd04f738d4f4a300be4f14b",
       "version_major": 2,
       "version_minor": 0
      },
      "text/plain": [
       "VBox(children=(Label(value='Waiting for wandb.init()...\\r'), FloatProgress(value=0.016668697049999535, max=1.0…"
      ]
     },
     "metadata": {},
     "output_type": "display_data"
    },
    {
     "data": {
      "text/html": [
       "Tracking run with wandb version 0.15.3"
      ],
      "text/plain": [
       "<IPython.core.display.HTML object>"
      ]
     },
     "metadata": {},
     "output_type": "display_data"
    },
    {
     "data": {
      "text/html": [
       "Run data is saved locally in <code>/content/wandb/run-20230527_082057-xpyv22rk</code>"
      ],
      "text/plain": [
       "<IPython.core.display.HTML object>"
      ]
     },
     "metadata": {},
     "output_type": "display_data"
    },
    {
     "data": {
      "text/html": [
       "Syncing run <strong><a href='https://wandb.ai/dhruv_sri/wandb_demo/runs/xpyv22rk' target=\"_blank\">misty-sun-96</a></strong> to <a href='https://wandb.ai/dhruv_sri/wandb_demo' target=\"_blank\">Weights & Biases</a> (<a href='https://wandb.me/run' target=\"_blank\">docs</a>)<br/>"
      ],
      "text/plain": [
       "<IPython.core.display.HTML object>"
      ]
     },
     "metadata": {},
     "output_type": "display_data"
    },
    {
     "data": {
      "text/html": [
       " View project at <a href='https://wandb.ai/dhruv_sri/wandb_demo' target=\"_blank\">https://wandb.ai/dhruv_sri/wandb_demo</a>"
      ],
      "text/plain": [
       "<IPython.core.display.HTML object>"
      ]
     },
     "metadata": {},
     "output_type": "display_data"
    },
    {
     "data": {
      "text/html": [
       " View run at <a href='https://wandb.ai/dhruv_sri/wandb_demo/runs/xpyv22rk' target=\"_blank\">https://wandb.ai/dhruv_sri/wandb_demo/runs/xpyv22rk</a>"
      ],
      "text/plain": [
       "<IPython.core.display.HTML object>"
      ]
     },
     "metadata": {},
     "output_type": "display_data"
    }
   ],
   "source": [
    "wandb.init(entity = \"dhruv_sri\",   # wandb username. (NOT REQUIRED ARG. ANYMORE, it fetches from initial login)\n",
    "           project = \"wandb_demo\", # wandb project name. New project will be created if given project is missing.\n",
    "           config = config         # Config dict\n",
    "          )\n",
    "wandb.run.name = config[\"wandb_run_name\"]"
   ]
  },
  {
   "cell_type": "code",
   "execution_count": 8,
   "metadata": {
    "colab": {
     "base_uri": "https://localhost:8080/"
    },
    "id": "BLGywkQ4NDMG",
    "outputId": "a734834c-44db-4ff1-b4f3-1abf1cea075f"
   },
   "outputs": [
    {
     "metadata": {
      "tags": null
     },
     "name": "stderr",
     "output_type": "stream",
     "text": [
      "100%|██████████| 200/200 [00:34<00:00,  5.85it/s]\n"
     ]
    },
    {
     "metadata": {
      "tags": null
     },
     "name": "stdout",
     "output_type": "stream",
     "text": [
      "{'epoch': 1, 'train_loss': 2.5776724207401274, 'eval_loss': 2.580969338417053, 'train_ap_score': 0.09983939892637754, 'eval_ap_score': 0.0995316337350098, 'lr': 0.0}\n"
     ]
    },
    {
     "metadata": {
      "tags": null
     },
     "name": "stderr",
     "output_type": "stream",
     "text": [
      "100%|██████████| 200/200 [00:31<00:00,  6.37it/s]\n"
     ]
    },
    {
     "metadata": {
      "tags": null
     },
     "name": "stdout",
     "output_type": "stream",
     "text": [
      "{'epoch': 2, 'train_loss': 2.578222749233246, 'eval_loss': 2.583479585647583, 'train_ap_score': 0.09989179590697285, 'eval_ap_score': 0.09960804065908385, 'lr': 0.0}\n"
     ]
    },
    {
     "metadata": {
      "tags": null
     },
     "name": "stderr",
     "output_type": "stream",
     "text": [
      "100%|██████████| 200/200 [00:34<00:00,  5.85it/s]\n"
     ]
    },
    {
     "metadata": {
      "tags": null
     },
     "name": "stdout",
     "output_type": "stream",
     "text": [
      "{'epoch': 3, 'train_loss': 2.5787194848060606, 'eval_loss': 2.587963171005249, 'train_ap_score': 0.09973366782172097, 'eval_ap_score': 0.09943244731674321, 'lr': 0.0}\n"
     ]
    },
    {
     "metadata": {
      "tags": null
     },
     "name": "stderr",
     "output_type": "stream",
     "text": [
      "100%|██████████| 200/200 [00:28<00:00,  7.12it/s]\n"
     ]
    },
    {
     "metadata": {
      "tags": null
     },
     "name": "stdout",
     "output_type": "stream",
     "text": [
      "{'epoch': 4, 'train_loss': 2.578044408559799, 'eval_loss': 2.5824219608306884, 'train_ap_score': 0.09976094621563625, 'eval_ap_score': 0.09936654332955074, 'lr': 0.0}\n"
     ]
    },
    {
     "metadata": {
      "tags": null
     },
     "name": "stderr",
     "output_type": "stream",
     "text": [
      "100%|██████████| 200/200 [00:32<00:00,  6.17it/s]\n"
     ]
    },
    {
     "metadata": {
      "tags": null
     },
     "name": "stdout",
     "output_type": "stream",
     "text": [
      "{'epoch': 5, 'train_loss': 2.578254451751709, 'eval_loss': 2.582160472869873, 'train_ap_score': 0.09968076999592583, 'eval_ap_score': 0.09937048681722294, 'lr': 0.0}\n"
     ]
    },
    {
     "metadata": {
      "tags": null
     },
     "name": "stderr",
     "output_type": "stream",
     "text": [
      "100%|██████████| 200/200 [00:31<00:00,  6.45it/s]\n"
     ]
    },
    {
     "metadata": {
      "tags": null
     },
     "name": "stdout",
     "output_type": "stream",
     "text": [
      "{'epoch': 6, 'train_loss': 2.5775618994235994, 'eval_loss': 2.583077459335327, 'train_ap_score': 0.09981655835170591, 'eval_ap_score': 0.09953907440033177, 'lr': 0.0}\n"
     ]
    },
    {
     "metadata": {
      "tags": null
     },
     "name": "stderr",
     "output_type": "stream",
     "text": [
      "100%|██████████| 200/200 [00:31<00:00,  6.36it/s]\n"
     ]
    },
    {
     "metadata": {
      "tags": null
     },
     "name": "stdout",
     "output_type": "stream",
     "text": [
      "{'epoch': 7, 'train_loss': 2.578031997680664, 'eval_loss': 2.584074549674988, 'train_ap_score': 0.0997643496266566, 'eval_ap_score': 0.09917765404401999, 'lr': 0.0}\n"
     ]
    },
    {
     "metadata": {
      "tags": null
     },
     "name": "stderr",
     "output_type": "stream",
     "text": [
      "100%|██████████| 200/200 [00:31<00:00,  6.29it/s]\n"
     ]
    },
    {
     "metadata": {
      "tags": null
     },
     "name": "stdout",
     "output_type": "stream",
     "text": [
      "{'epoch': 8, 'train_loss': 2.5784185945987703, 'eval_loss': 2.582074136734009, 'train_ap_score': 0.09980409546571213, 'eval_ap_score': 0.09942697325621201, 'lr': 0.0}\n"
     ]
    },
    {
     "metadata": {
      "tags": null
     },
     "name": "stderr",
     "output_type": "stream",
     "text": [
      "100%|██████████| 200/200 [00:30<00:00,  6.66it/s]\n"
     ]
    },
    {
     "metadata": {
      "tags": null
     },
     "name": "stdout",
     "output_type": "stream",
     "text": [
      "{'epoch': 9, 'train_loss': 2.577744176387787, 'eval_loss': 2.5877378129959108, 'train_ap_score': 0.09990603343561665, 'eval_ap_score': 0.09949768610457384, 'lr': 0.0}\n"
     ]
    },
    {
     "metadata": {
      "tags": null
     },
     "name": "stderr",
     "output_type": "stream",
     "text": [
      "100%|██████████| 200/200 [00:32<00:00,  6.21it/s]\n"
     ]
    },
    {
     "metadata": {
      "tags": null
     },
     "name": "stdout",
     "output_type": "stream",
     "text": [
      "{'epoch': 10, 'train_loss': 2.5781187176704408, 'eval_loss': 2.586380596160889, 'train_ap_score': 0.09975790743784127, 'eval_ap_score': 0.0993462950119057, 'lr': 0.0}\n"
     ]
    },
    {
     "metadata": {
      "tags": null
     },
     "name": "stderr",
     "output_type": "stream",
     "text": [
      "100%|██████████| 200/200 [00:30<00:00,  6.65it/s]\n"
     ]
    },
    {
     "metadata": {
      "tags": null
     },
     "name": "stdout",
     "output_type": "stream",
     "text": [
      "{'epoch': 11, 'train_loss': 2.5789030587673185, 'eval_loss': 2.582804951667786, 'train_ap_score': 0.09968117656151748, 'eval_ap_score': 0.09938760041131, 'lr': 0.0}\n"
     ]
    },
    {
     "name": "stderr",
     "output_type": "stream",
     "text": [
      "100%|██████████| 200/200 [00:20<00:00,  9.81it/s]\n"
     ]
    },
    {
     "name": "stdout",
     "output_type": "stream",
     "text": [
      "{'epoch': 12, 'train_loss': 2.5773394775390623, 'eval_loss': 2.5851004409790037, 'train_ap_score': 0.10003359427168021, 'eval_ap_score': 0.09953250726562575, 'lr': 0.0}\n"
     ]
    },
    {
     "name": "stderr",
     "output_type": "stream",
     "text": [
      "100%|██████████| 200/200 [00:19<00:00, 10.05it/s]\n"
     ]
    },
    {
     "name": "stdout",
     "output_type": "stream",
     "text": [
      "{'epoch': 13, 'train_loss': 2.579117681980133, 'eval_loss': 2.58171236038208, 'train_ap_score': 0.09965929905071697, 'eval_ap_score': 0.09923617544598974, 'lr': 0.0}\n"
     ]
    },
    {
     "name": "stderr",
     "output_type": "stream",
     "text": [
      "100%|██████████| 200/200 [00:20<00:00,  9.94it/s]\n"
     ]
    },
    {
     "name": "stdout",
     "output_type": "stream",
     "text": [
      "{'epoch': 14, 'train_loss': 2.5772964322566985, 'eval_loss': 2.583012375831604, 'train_ap_score': 0.09979227475978662, 'eval_ap_score': 0.09941445150218611, 'lr': 0.0}\n"
     ]
    },
    {
     "name": "stderr",
     "output_type": "stream",
     "text": [
      "100%|██████████| 200/200 [00:19<00:00, 10.04it/s]\n"
     ]
    },
    {
     "name": "stdout",
     "output_type": "stream",
     "text": [
      "{'epoch': 15, 'train_loss': 2.578106826543808, 'eval_loss': 2.5862761735916138, 'train_ap_score': 0.09968462454666613, 'eval_ap_score': 0.09936452666139381, 'lr': 0.0}\n"
     ]
    },
    {
     "name": "stderr",
     "output_type": "stream",
     "text": [
      "100%|██████████| 200/200 [00:20<00:00,  9.80it/s]\n"
     ]
    },
    {
     "name": "stdout",
     "output_type": "stream",
     "text": [
      "{'epoch': 16, 'train_loss': 2.5782781052589416, 'eval_loss': 2.586283416748047, 'train_ap_score': 0.09976767966293944, 'eval_ap_score': 0.09962116908450873, 'lr': 0.0}\n"
     ]
    },
    {
     "name": "stderr",
     "output_type": "stream",
     "text": [
      "100%|██████████| 200/200 [00:19<00:00, 10.22it/s]\n"
     ]
    },
    {
     "name": "stdout",
     "output_type": "stream",
     "text": [
      "{'epoch': 17, 'train_loss': 2.579158067703247, 'eval_loss': 2.5843823766708374, 'train_ap_score': 0.09978601437520443, 'eval_ap_score': 0.09963335669426968, 'lr': 0.0}\n"
     ]
    },
    {
     "name": "stderr",
     "output_type": "stream",
     "text": [
      "100%|██████████| 200/200 [00:21<00:00,  9.44it/s]\n"
     ]
    },
    {
     "name": "stdout",
     "output_type": "stream",
     "text": [
      "{'epoch': 18, 'train_loss': 2.578124680519104, 'eval_loss': 2.57983588218689, 'train_ap_score': 0.09992805904825239, 'eval_ap_score': 0.09952184112868408, 'lr': 0.0}\n"
     ]
    },
    {
     "name": "stderr",
     "output_type": "stream",
     "text": [
      "100%|██████████| 200/200 [00:20<00:00,  9.95it/s]\n"
     ]
    },
    {
     "name": "stdout",
     "output_type": "stream",
     "text": [
      "{'epoch': 19, 'train_loss': 2.5794551515579225, 'eval_loss': 2.582182822227478, 'train_ap_score': 0.09947215748431809, 'eval_ap_score': 0.09949204686587002, 'lr': 0.0}\n"
     ]
    },
    {
     "name": "stderr",
     "output_type": "stream",
     "text": [
      "100%|██████████| 200/200 [00:19<00:00, 10.19it/s]\n"
     ]
    },
    {
     "name": "stdout",
     "output_type": "stream",
     "text": [
      "{'epoch': 20, 'train_loss': 2.5770978331565857, 'eval_loss': 2.5848310232162475, 'train_ap_score': 0.09980902781452677, 'eval_ap_score': 0.09951943430444563, 'lr': 0.0}\n"
     ]
    },
    {
     "name": "stderr",
     "output_type": "stream",
     "text": [
      "100%|██████████| 200/200 [00:19<00:00, 10.16it/s]\n"
     ]
    },
    {
     "name": "stdout",
     "output_type": "stream",
     "text": [
      "{'epoch': 21, 'train_loss': 2.5789215397834777, 'eval_loss': 2.5853428411483765, 'train_ap_score': 0.09973415133565941, 'eval_ap_score': 0.09921596741497271, 'lr': 0.0}\n"
     ]
    },
    {
     "name": "stderr",
     "output_type": "stream",
     "text": [
      "100%|██████████| 200/200 [00:20<00:00,  9.93it/s]\n"
     ]
    },
    {
     "name": "stdout",
     "output_type": "stream",
     "text": [
      "{'epoch': 22, 'train_loss': 2.578049658536911, 'eval_loss': 2.58352032661438, 'train_ap_score': 0.09980458367221405, 'eval_ap_score': 0.09926259808704847, 'lr': 0.0}\n"
     ]
    },
    {
     "name": "stderr",
     "output_type": "stream",
     "text": [
      "100%|██████████| 200/200 [00:19<00:00, 10.27it/s]\n"
     ]
    },
    {
     "name": "stdout",
     "output_type": "stream",
     "text": [
      "{'epoch': 23, 'train_loss': 2.578490762710571, 'eval_loss': 2.5818199491500855, 'train_ap_score': 0.09964781151029536, 'eval_ap_score': 0.09963847284006774, 'lr': 0.0}\n"
     ]
    },
    {
     "name": "stderr",
     "output_type": "stream",
     "text": [
      "100%|██████████| 200/200 [00:19<00:00, 10.26it/s]\n"
     ]
    },
    {
     "name": "stdout",
     "output_type": "stream",
     "text": [
      "{'epoch': 24, 'train_loss': 2.5796469795703887, 'eval_loss': 2.586447024345398, 'train_ap_score': 0.09957247962420017, 'eval_ap_score': 0.09914065335209174, 'lr': 0.0}\n"
     ]
    },
    {
     "name": "stderr",
     "output_type": "stream",
     "text": [
      "100%|██████████| 200/200 [00:19<00:00, 10.03it/s]\n"
     ]
    },
    {
     "name": "stdout",
     "output_type": "stream",
     "text": [
      "{'epoch': 25, 'train_loss': 2.5783488368988037, 'eval_loss': 2.583089442253113, 'train_ap_score': 0.0996673563826614, 'eval_ap_score': 0.09947601472920845, 'lr': 0.0}\n"
     ]
    },
    {
     "name": "stderr",
     "output_type": "stream",
     "text": [
      "100%|██████████| 200/200 [00:20<00:00,  9.80it/s]\n"
     ]
    },
    {
     "name": "stdout",
     "output_type": "stream",
     "text": [
      "{'epoch': 26, 'train_loss': 2.5793893325328825, 'eval_loss': 2.583512001037598, 'train_ap_score': 0.09959281962594052, 'eval_ap_score': 0.09950244424362213, 'lr': 0.0}\n"
     ]
    },
    {
     "name": "stderr",
     "output_type": "stream",
     "text": [
      "100%|██████████| 200/200 [00:19<00:00, 10.11it/s]\n"
     ]
    },
    {
     "name": "stdout",
     "output_type": "stream",
     "text": [
      "{'epoch': 27, 'train_loss': 2.5779205429553986, 'eval_loss': 2.585082378387451, 'train_ap_score': 0.09989376567913924, 'eval_ap_score': 0.09939614040611264, 'lr': 0.0}\n"
     ]
    },
    {
     "name": "stderr",
     "output_type": "stream",
     "text": [
      "100%|██████████| 200/200 [00:19<00:00, 10.03it/s]\n"
     ]
    },
    {
     "name": "stdout",
     "output_type": "stream",
     "text": [
      "{'epoch': 28, 'train_loss': 2.5785559570789336, 'eval_loss': 2.580647702217102, 'train_ap_score': 0.09969688551361508, 'eval_ap_score': 0.09937959389997222, 'lr': 0.0}\n"
     ]
    },
    {
     "name": "stderr",
     "output_type": "stream",
     "text": [
      "100%|██████████| 200/200 [00:20<00:00,  9.93it/s]\n"
     ]
    },
    {
     "name": "stdout",
     "output_type": "stream",
     "text": [
      "{'epoch': 29, 'train_loss': 2.5799320161342623, 'eval_loss': 2.582861843109131, 'train_ap_score': 0.09947095141027287, 'eval_ap_score': 0.09914436765169293, 'lr': 0.0}\n"
     ]
    },
    {
     "name": "stderr",
     "output_type": "stream",
     "text": [
      "100%|██████████| 200/200 [00:20<00:00,  9.79it/s]\n"
     ]
    },
    {
     "name": "stdout",
     "output_type": "stream",
     "text": [
      "{'epoch': 30, 'train_loss': 2.5763994240760804, 'eval_loss': 2.58592191696167, 'train_ap_score': 0.10000311977704394, 'eval_ap_score': 0.09957888741974283, 'lr': 0.0}\n"
     ]
    },
    {
     "name": "stderr",
     "output_type": "stream",
     "text": [
      "100%|██████████| 200/200 [00:20<00:00,  9.76it/s]\n"
     ]
    },
    {
     "name": "stdout",
     "output_type": "stream",
     "text": [
      "{'epoch': 31, 'train_loss': 2.5788033640384675, 'eval_loss': 2.5858178663253786, 'train_ap_score': 0.0999247814251232, 'eval_ap_score': 0.09948656322194863, 'lr': 0.0}\n"
     ]
    },
    {
     "name": "stderr",
     "output_type": "stream",
     "text": [
      "100%|██████████| 200/200 [00:20<00:00,  9.96it/s]\n"
     ]
    },
    {
     "name": "stdout",
     "output_type": "stream",
     "text": [
      "{'epoch': 32, 'train_loss': 2.5801198399066925, 'eval_loss': 2.5834839963912963, 'train_ap_score': 0.099508394219294, 'eval_ap_score': 0.09924129662767753, 'lr': 0.0}\n"
     ]
    },
    {
     "name": "stderr",
     "output_type": "stream",
     "text": [
      "100%|██████████| 200/200 [00:20<00:00,  9.83it/s]\n"
     ]
    },
    {
     "name": "stdout",
     "output_type": "stream",
     "text": [
      "{'epoch': 33, 'train_loss': 2.578018282651901, 'eval_loss': 2.5859339094161986, 'train_ap_score': 0.09972181051879589, 'eval_ap_score': 0.09930774909026661, 'lr': 0.0}\n"
     ]
    },
    {
     "name": "stderr",
     "output_type": "stream",
     "text": [
      "100%|██████████| 200/200 [00:20<00:00,  9.78it/s]\n"
     ]
    },
    {
     "name": "stdout",
     "output_type": "stream",
     "text": [
      "{'epoch': 34, 'train_loss': 2.5795436692237854, 'eval_loss': 2.582578363418579, 'train_ap_score': 0.09956394089697389, 'eval_ap_score': 0.099468979097531, 'lr': 0.0}\n"
     ]
    },
    {
     "name": "stderr",
     "output_type": "stream",
     "text": [
      "100%|██████████| 200/200 [00:20<00:00,  9.82it/s]\n"
     ]
    },
    {
     "name": "stdout",
     "output_type": "stream",
     "text": [
      "{'epoch': 35, 'train_loss': 2.5783085346221926, 'eval_loss': 2.5880533266067505, 'train_ap_score': 0.09989043958944081, 'eval_ap_score': 0.09963289728699967, 'lr': 0.0}\n"
     ]
    },
    {
     "name": "stderr",
     "output_type": "stream",
     "text": [
      "100%|██████████| 200/200 [00:20<00:00,  9.88it/s]\n"
     ]
    },
    {
     "name": "stdout",
     "output_type": "stream",
     "text": [
      "{'epoch': 36, 'train_loss': 2.577661551237106, 'eval_loss': 2.585993070602417, 'train_ap_score': 0.09987838455751782, 'eval_ap_score': 0.09928147055228109, 'lr': 0.0}\n"
     ]
    },
    {
     "name": "stderr",
     "output_type": "stream",
     "text": [
      "100%|██████████| 200/200 [00:20<00:00,  9.98it/s]\n"
     ]
    },
    {
     "name": "stdout",
     "output_type": "stream",
     "text": [
      "{'epoch': 37, 'train_loss': 2.578665007352829, 'eval_loss': 2.587017683982849, 'train_ap_score': 0.09973778637392414, 'eval_ap_score': 0.09958233159403881, 'lr': 0.0}\n"
     ]
    },
    {
     "name": "stderr",
     "output_type": "stream",
     "text": [
      "100%|██████████| 200/200 [00:20<00:00,  9.84it/s]\n"
     ]
    },
    {
     "name": "stdout",
     "output_type": "stream",
     "text": [
      "{'epoch': 38, 'train_loss': 2.5794949460029604, 'eval_loss': 2.581411848068237, 'train_ap_score': 0.09960253253520883, 'eval_ap_score': 0.0992376173896013, 'lr': 0.0}\n"
     ]
    },
    {
     "name": "stderr",
     "output_type": "stream",
     "text": [
      "100%|██████████| 200/200 [00:19<00:00, 10.04it/s]\n"
     ]
    },
    {
     "name": "stdout",
     "output_type": "stream",
     "text": [
      "{'epoch': 39, 'train_loss': 2.5790510535240174, 'eval_loss': 2.585963978767395, 'train_ap_score': 0.09981071900645279, 'eval_ap_score': 0.09952128490844507, 'lr': 0.0}\n"
     ]
    },
    {
     "name": "stderr",
     "output_type": "stream",
     "text": [
      "100%|██████████| 200/200 [00:19<00:00, 10.03it/s]\n"
     ]
    },
    {
     "name": "stdout",
     "output_type": "stream",
     "text": [
      "{'epoch': 40, 'train_loss': 2.5782238912582396, 'eval_loss': 2.58040078163147, 'train_ap_score': 0.09960598690149781, 'eval_ap_score': 0.09964847941845847, 'lr': 0.0}\n"
     ]
    }
   ],
   "source": [
    "trigger_training(config)\n"
   ]
  },
  {
   "cell_type": "code",
   "execution_count": 9,
   "metadata": {
    "colab": {
     "base_uri": "https://localhost:8080/",
     "height": 376,
     "referenced_widgets": [
      "457b2fe819ef43f0bc9f917658355641",
      "f7be4037e4ee49448aa8f5512716316f",
      "30db4338bbc7462b94886be86074fa41",
      "ebeb67ca5d544260aaca0417eefba711",
      "6da57f0e275642c3a8270a1a5346c05f",
      "5898b7c05a644e60965f790279771824",
      "cc84a444195442f9a19c7d310f2f8762",
      "bb486d75357e4bd2a422fac28d6c8f7d"
     ]
    },
    "id": "RyGt96kZN60-",
    "outputId": "9368cea9-e706-4698-9c0c-227a6a7a06f8"
   },
   "outputs": [
    {
     "data": {
      "text/html": [
       "Waiting for W&B process to finish... <strong style=\"color:green\">(success).</strong>"
      ],
      "text/plain": [
       "<IPython.core.display.HTML object>"
      ]
     },
     "metadata": {},
     "output_type": "display_data"
    },
    {
     "data": {
      "application/vnd.jupyter.widget-view+json": {
       "model_id": "457b2fe819ef43f0bc9f917658355641",
       "version_major": 2,
       "version_minor": 0
      },
      "text/plain": [
       "VBox(children=(Label(value='0.001 MB of 0.001 MB uploaded (0.000 MB deduped)\\r'), FloatProgress(value=1.0, max…"
      ]
     },
     "metadata": {},
     "output_type": "display_data"
    },
    {
     "data": {
      "text/html": [
       "<style>\n",
       "    table.wandb td:nth-child(1) { padding: 0 10px; text-align: left ; width: auto;} td:nth-child(2) {text-align: left ; width: 100%}\n",
       "    .wandb-row { display: flex; flex-direction: row; flex-wrap: wrap; justify-content: flex-start; width: 100% }\n",
       "    .wandb-col { display: flex; flex-direction: column; flex-basis: 100%; flex: 1; padding: 10px; }\n",
       "    </style>\n",
       "<div class=\"wandb-row\"><div class=\"wandb-col\"><h3>Run history:</h3><br/><table class=\"wandb\"><tr><td>epoch</td><td>▁▁▁▂▂▂▂▂▂▃▃▃▃▃▄▄▄▄▄▄▅▅▅▅▅▅▆▆▆▆▆▇▇▇▇▇▇███</td></tr><tr><td>eval_ap_score</td><td>▆▇▅▄▄▆▂▅▆▄▄▆▂▅▄██▆▆▆▂▃█▁▆▆▅▄▁▇▆▂▃▆█▃▇▂▆█</td></tr><tr><td>eval_loss</td><td>▂▄█▃▃▄▅▃█▇▄▅▃▄▆▆▅▁▃▅▆▄▃▇▄▄▅▂▄▆▆▄▆▃█▆▇▂▆▁</td></tr><tr><td>lr</td><td>▁▁▁▁▁▁▁▁▁▁▁▁▁▁▁▁▁▁▁▁▁▁▁▁▁▁▁▁▁▁▁▁▁▁▁▁▁▁▁▁</td></tr><tr><td>train_ap_score</td><td>▆▆▄▅▄▅▅▅▆▅▄█▃▅▄▅▅▇▁▅▄▅▃▂▃▃▆▄▁█▇▁▄▂▆▆▄▃▅▃</td></tr><tr><td>train_loss</td><td>▃▄▅▄▄▃▄▅▄▄▆▃▆▃▄▅▆▄▇▂▆▄▅▇▅▇▄▅█▁▆█▄▇▅▃▅▇▆▄</td></tr></table><br/></div><div class=\"wandb-col\"><h3>Run summary:</h3><br/><table class=\"wandb\"><tr><td>epoch</td><td>40</td></tr><tr><td>eval_ap_score</td><td>0.09965</td></tr><tr><td>eval_loss</td><td>2.5804</td></tr><tr><td>lr</td><td>0.0</td></tr><tr><td>train_ap_score</td><td>0.09961</td></tr><tr><td>train_loss</td><td>2.57822</td></tr></table><br/></div></div>"
      ],
      "text/plain": [
       "<IPython.core.display.HTML object>"
      ]
     },
     "metadata": {},
     "output_type": "display_data"
    },
    {
     "data": {
      "text/html": [
       " View run <strong style=\"color:#cdcd00\">misty-sun-96</strong> at: <a href='https://wandb.ai/dhruv_sri/wandb_demo/runs/xpyv22rk' target=\"_blank\">https://wandb.ai/dhruv_sri/wandb_demo/runs/xpyv22rk</a><br/>Synced 5 W&B file(s), 0 media file(s), 0 artifact file(s) and 0 other file(s)"
      ],
      "text/plain": [
       "<IPython.core.display.HTML object>"
      ]
     },
     "metadata": {},
     "output_type": "display_data"
    },
    {
     "data": {
      "text/html": [
       "Find logs at: <code>./wandb/run-20230527_082057-xpyv22rk/logs</code>"
      ],
      "text/plain": [
       "<IPython.core.display.HTML object>"
      ]
     },
     "metadata": {},
     "output_type": "display_data"
    }
   ],
   "source": [
    "wandb.finish()"
   ]
  },
  {
   "cell_type": "code",
   "execution_count": null,
   "metadata": {
    "id": "0RfnKkXnN7Sd"
   },
   "outputs": [],
   "source": []
  },
  {
   "cell_type": "markdown",
   "metadata": {
    "id": "4br2c7d1N8ya"
   },
   "source": [
    "# WandB Steps"
   ]
  },
  {
   "cell_type": "code",
   "execution_count": 8,
   "metadata": {
    "id": "gg1VnOOBOAGe"
   },
   "outputs": [],
   "source": [
    "### Step 1: Import WandB in your code\n",
    "\n",
    "import wandb\n",
    "\n",
    "### Step 1 ends"
   ]
  },
  {
   "cell_type": "code",
   "execution_count": null,
   "metadata": {
    "id": "2oIAE7tpOBH_"
   },
   "outputs": [],
   "source": [
    "### Step 2:\n",
    "# Initiate wandb in your script. The moment we trigger wandb.init(), an active\n",
    "# socket connection is established between your machine and wandb server.\n",
    "# We specify the entity (wandb username) and project (which wandb project to use for logging)\n",
    "\n",
    "wandb.init(entity = \"dhruv_sri\",   # wandb username. (NOT REQUIRED ARG. ANYMORE, it fetches from initial login)\n",
    "           project = \"wandb_demo\", # wandb project name. New project will be created if given project is missing.\n",
    "           config = config         # Config dict\n",
    "          )\n",
    "wandb.run.name = config[\"wandb_run_name\"]\n",
    "\n",
    "### Step 2 ends.\n"
   ]
  },
  {
   "cell_type": "code",
   "execution_count": null,
   "metadata": {
    "id": "P_c8_juPOC6o"
   },
   "outputs": [],
   "source": [
    "### Step 3: Trigger wandb log\n",
    "# This step is responsible for sending the logs to wandb\n",
    "\n",
    "wandb.log(data_to_log)\n",
    "\n",
    "### Step 3 ends.\n"
   ]
  },
  {
   "cell_type": "code",
   "execution_count": null,
   "metadata": {
    "id": "JnQzf5xHOEKR"
   },
   "outputs": [],
   "source": [
    "### Step 4 (Optional)\n",
    "# This closes the active socket connection to wandb server. Optional since wandb destructor does the same.\n",
    "\n",
    "wandb.finish()\n",
    "\n",
    "### Step 4 ends.\n"
   ]
  },
  {
   "cell_type": "code",
   "execution_count": null,
   "metadata": {
    "id": "-fQ5XateZfx3"
   },
   "outputs": [],
   "source": []
  },
  {
   "cell_type": "code",
   "execution_count": null,
   "metadata": {
    "id": "GY131mhVZfvc"
   },
   "outputs": [],
   "source": []
  },
  {
   "cell_type": "markdown",
   "metadata": {
    "id": "UiUK11qqZQZS"
   },
   "source": [
    "# WandB sweeps related steps"
   ]
  },
  {
   "cell_type": "code",
   "execution_count": null,
   "metadata": {
    "id": "tMbRxfDwZT8r"
   },
   "outputs": [],
   "source": [
    "### Step 1:\n",
    "# Create a WandB sweep config file.\n",
    "# This config file will be used at the WandB website to initialize a sweep server\n",
    "program: \"demo.py\"\n",
    "method: \"grid\"\n",
    "metric:\n",
    "  name: \"eval_ap_score\"\n",
    "  goal: \"maximize\"\n",
    "parameters:\n",
    "    criterion:\n",
    "      value: \"ce\"\n",
    "    gpu_id:\n",
    "      value: 0\n",
    "    lr:\n",
    "      values: [0.1, 0.001, 0.0001]\n",
    "    model_type:\n",
    "      values: [\"scratch\", \"pretrained\"]\n",
    "    num_epochs:\n",
    "      value: 25\n",
    "    optimizer:\n",
    "      values: [\"adam\", \"SGD\", \"RMSprop\"]\n",
    "    scheduler_patience:\n",
    "      value: 3\n",
    "    scheduler_thresh:\n",
    "      value: 0.01\n",
    "\n",
    "        \n",
    "### A sample sweep config file if bayes method is used-\n",
    "# program: wandb_demo.py\n",
    "# method: bayes\n",
    "# metric:\n",
    "#   name: \"eval_ap_score\"\n",
    "#   goal: maximize\n",
    "# parameters:\n",
    "#   lr:\n",
    "#     distribution: uniform\n",
    "#     min: 0.00001\n",
    "#     max: 0.1\n",
    "#   criterion:\n",
    "#     distribution: categorical\n",
    "#     value:\n",
    "#       - ce\n",
    "#   optimizer:\n",
    "#     distribution: categorical\n",
    "#     values:\n",
    "#       - adam\n",
    "#       - SGD\n",
    "#       - RMSprop\n",
    "#   model_type:\n",
    "#     distribution: categorical\n",
    "#     values:\n",
    "#       - pretrained\n",
    "#       - scratch\n",
    "#   num_epochs:\n",
    "#     value:\n",
    "#       - 30\n",
    "#   scheduler_thresh:\n",
    "#     distribution: uniform\n",
    "#     min: 0.001\n",
    "#     max: 0.01\n",
    "#   scheduler_patience:\n",
    "#     distribution: int_uniform\n",
    "#     min: 2\n",
    "#     max: 10\n"
   ]
  },
  {
   "cell_type": "code",
   "execution_count": null,
   "metadata": {
    "id": "8yEkgDnGZT2X"
   },
   "outputs": [],
   "source": [
    "### Step 2\n",
    "# After using the above config on wandb website, you will get a sweep id in return.\n",
    "# E.g. sweep id- dhruv_sri/wandb_demo/hbyp0tl8\n",
    "#\n",
    "# Add the following agent line in your code-\n",
    "# Use the generated sweep id in the below code\n",
    "\n",
    "wandb.agent(sweep_id=\"### FILL SWEEP ID HERE ###\", function=sweep_agent_manager, count=100)\n"
   ]
  },
  {
   "cell_type": "code",
   "execution_count": null,
   "metadata": {
    "id": "bqY9TPyJZTx1"
   },
   "outputs": [],
   "source": [
    "### Step 3\n",
    "# Notice in above command we mentioned an argument named \"function\"\n",
    "# Wandb agents must trigger a function where they can initiate a socket to wandb and get a config.\n",
    "# So, we will use the following sweep_agent_manager function here-\n",
    "\n",
    "def sweep_agent_manager():\n",
    "    wandb.init()\n",
    "    config = dict(wandb.config)\n",
    "    run_name = f\"{config['model_type']}_{config['optimizer']}_{config['lr']}\"\n",
    "    wandb.run.name = run_name\n",
    "    trigger_training(config)\n"
   ]
  },
  {
   "cell_type": "code",
   "execution_count": null,
   "metadata": {
    "id": "alHqJ4mQZTtM"
   },
   "outputs": [],
   "source": [
    "### Done.\n",
    "# Now execute your training script on multiple machines.\n",
    "# Each run will request the config file from wandb and related experiments will be logged.\n",
    "# \n",
    "# NOTE!! wandb.log(data_to_log) must be present inside the code!! Else there is no meaning to sweep.\n"
   ]
  },
  {
   "cell_type": "markdown",
   "metadata": {
    "id": "aNIxPqn_OGTU"
   },
   "source": [
    "# ------------------------------ Ends ------------------------------"
   ]
  }
 ],
 "metadata": {
  "accelerator": "GPU",
  "colab": {
   "provenance": []
  },
  "gpuClass": "standard",
  "kernelspec": {
   "display_name": "Python 3 (ipykernel)",
   "language": "python",
   "name": "python3"
  },
  "language_info": {
   "codemirror_mode": {
    "name": "ipython",
    "version": 3
   },
   "file_extension": ".py",
   "mimetype": "text/x-python",
   "name": "python",
   "nbconvert_exporter": "python",
   "pygments_lexer": "ipython3",
   "version": "3.10.6"
  },
  "widgets": {
   "application/vnd.jupyter.widget-state+json": {
    "30db4338bbc7462b94886be86074fa41": {
     "model_module": "@jupyter-widgets/controls",
     "model_module_version": "1.5.0",
     "model_name": "FloatProgressModel",
     "state": {
      "_dom_classes": [],
      "_model_module": "@jupyter-widgets/controls",
      "_model_module_version": "1.5.0",
      "_model_name": "FloatProgressModel",
      "_view_count": null,
      "_view_module": "@jupyter-widgets/controls",
      "_view_module_version": "1.5.0",
      "_view_name": "ProgressView",
      "bar_style": "",
      "description": "",
      "description_tooltip": null,
      "layout": "IPY_MODEL_cc84a444195442f9a19c7d310f2f8762",
      "max": 1,
      "min": 0,
      "orientation": "horizontal",
      "style": "IPY_MODEL_bb486d75357e4bd2a422fac28d6c8f7d",
      "value": 1
     }
    },
    "370ce9ab2b9a4ba6acbd396b537278ed": {
     "model_module": "@jupyter-widgets/controls",
     "model_module_version": "1.5.0",
     "model_name": "ProgressStyleModel",
     "state": {
      "_model_module": "@jupyter-widgets/controls",
      "_model_module_version": "1.5.0",
      "_model_name": "ProgressStyleModel",
      "_view_count": null,
      "_view_module": "@jupyter-widgets/base",
      "_view_module_version": "1.2.0",
      "_view_name": "StyleView",
      "bar_color": null,
      "description_width": ""
     }
    },
    "457b2fe819ef43f0bc9f917658355641": {
     "model_module": "@jupyter-widgets/controls",
     "model_module_version": "1.5.0",
     "model_name": "VBoxModel",
     "state": {
      "_dom_classes": [],
      "_model_module": "@jupyter-widgets/controls",
      "_model_module_version": "1.5.0",
      "_model_name": "VBoxModel",
      "_view_count": null,
      "_view_module": "@jupyter-widgets/controls",
      "_view_module_version": "1.5.0",
      "_view_name": "VBoxView",
      "box_style": "",
      "children": [
       "IPY_MODEL_f7be4037e4ee49448aa8f5512716316f",
       "IPY_MODEL_30db4338bbc7462b94886be86074fa41"
      ],
      "layout": "IPY_MODEL_ebeb67ca5d544260aaca0417eefba711"
     }
    },
    "5898b7c05a644e60965f790279771824": {
     "model_module": "@jupyter-widgets/controls",
     "model_module_version": "1.5.0",
     "model_name": "DescriptionStyleModel",
     "state": {
      "_model_module": "@jupyter-widgets/controls",
      "_model_module_version": "1.5.0",
      "_model_name": "DescriptionStyleModel",
      "_view_count": null,
      "_view_module": "@jupyter-widgets/base",
      "_view_module_version": "1.2.0",
      "_view_name": "StyleView",
      "description_width": ""
     }
    },
    "5d2bb9b2944746ad8b13ba556ec136b4": {
     "model_module": "@jupyter-widgets/controls",
     "model_module_version": "1.5.0",
     "model_name": "DescriptionStyleModel",
     "state": {
      "_model_module": "@jupyter-widgets/controls",
      "_model_module_version": "1.5.0",
      "_model_name": "DescriptionStyleModel",
      "_view_count": null,
      "_view_module": "@jupyter-widgets/base",
      "_view_module_version": "1.2.0",
      "_view_name": "StyleView",
      "description_width": ""
     }
    },
    "6da57f0e275642c3a8270a1a5346c05f": {
     "model_module": "@jupyter-widgets/base",
     "model_module_version": "1.2.0",
     "model_name": "LayoutModel",
     "state": {
      "_model_module": "@jupyter-widgets/base",
      "_model_module_version": "1.2.0",
      "_model_name": "LayoutModel",
      "_view_count": null,
      "_view_module": "@jupyter-widgets/base",
      "_view_module_version": "1.2.0",
      "_view_name": "LayoutView",
      "align_content": null,
      "align_items": null,
      "align_self": null,
      "border": null,
      "bottom": null,
      "display": null,
      "flex": null,
      "flex_flow": null,
      "grid_area": null,
      "grid_auto_columns": null,
      "grid_auto_flow": null,
      "grid_auto_rows": null,
      "grid_column": null,
      "grid_gap": null,
      "grid_row": null,
      "grid_template_areas": null,
      "grid_template_columns": null,
      "grid_template_rows": null,
      "height": null,
      "justify_content": null,
      "justify_items": null,
      "left": null,
      "margin": null,
      "max_height": null,
      "max_width": null,
      "min_height": null,
      "min_width": null,
      "object_fit": null,
      "object_position": null,
      "order": null,
      "overflow": null,
      "overflow_x": null,
      "overflow_y": null,
      "padding": null,
      "right": null,
      "top": null,
      "visibility": null,
      "width": null
     }
    },
    "86c96e9c08614502aa96089021bc9616": {
     "model_module": "@jupyter-widgets/controls",
     "model_module_version": "1.5.0",
     "model_name": "FloatProgressModel",
     "state": {
      "_dom_classes": [],
      "_model_module": "@jupyter-widgets/controls",
      "_model_module_version": "1.5.0",
      "_model_name": "FloatProgressModel",
      "_view_count": null,
      "_view_module": "@jupyter-widgets/controls",
      "_view_module_version": "1.5.0",
      "_view_name": "ProgressView",
      "bar_style": "",
      "description": "",
      "description_tooltip": null,
      "layout": "IPY_MODEL_903d5b321a7f446684f4822886e2af58",
      "max": 1,
      "min": 0,
      "orientation": "horizontal",
      "style": "IPY_MODEL_370ce9ab2b9a4ba6acbd396b537278ed",
      "value": 1
     }
    },
    "8c1cd2db6dd04f738d4f4a300be4f14b": {
     "model_module": "@jupyter-widgets/controls",
     "model_module_version": "1.5.0",
     "model_name": "VBoxModel",
     "state": {
      "_dom_classes": [],
      "_model_module": "@jupyter-widgets/controls",
      "_model_module_version": "1.5.0",
      "_model_name": "VBoxModel",
      "_view_count": null,
      "_view_module": "@jupyter-widgets/controls",
      "_view_module_version": "1.5.0",
      "_view_name": "VBoxView",
      "box_style": "",
      "children": [
       "IPY_MODEL_c201b17bebae49a1a54f938ad47939f0",
       "IPY_MODEL_86c96e9c08614502aa96089021bc9616"
      ],
      "layout": "IPY_MODEL_aec69cc540c643a693c53dfd4f3b89a6"
     }
    },
    "903d5b321a7f446684f4822886e2af58": {
     "model_module": "@jupyter-widgets/base",
     "model_module_version": "1.2.0",
     "model_name": "LayoutModel",
     "state": {
      "_model_module": "@jupyter-widgets/base",
      "_model_module_version": "1.2.0",
      "_model_name": "LayoutModel",
      "_view_count": null,
      "_view_module": "@jupyter-widgets/base",
      "_view_module_version": "1.2.0",
      "_view_name": "LayoutView",
      "align_content": null,
      "align_items": null,
      "align_self": null,
      "border": null,
      "bottom": null,
      "display": null,
      "flex": null,
      "flex_flow": null,
      "grid_area": null,
      "grid_auto_columns": null,
      "grid_auto_flow": null,
      "grid_auto_rows": null,
      "grid_column": null,
      "grid_gap": null,
      "grid_row": null,
      "grid_template_areas": null,
      "grid_template_columns": null,
      "grid_template_rows": null,
      "height": null,
      "justify_content": null,
      "justify_items": null,
      "left": null,
      "margin": null,
      "max_height": null,
      "max_width": null,
      "min_height": null,
      "min_width": null,
      "object_fit": null,
      "object_position": null,
      "order": null,
      "overflow": null,
      "overflow_x": null,
      "overflow_y": null,
      "padding": null,
      "right": null,
      "top": null,
      "visibility": null,
      "width": null
     }
    },
    "aec69cc540c643a693c53dfd4f3b89a6": {
     "model_module": "@jupyter-widgets/base",
     "model_module_version": "1.2.0",
     "model_name": "LayoutModel",
     "state": {
      "_model_module": "@jupyter-widgets/base",
      "_model_module_version": "1.2.0",
      "_model_name": "LayoutModel",
      "_view_count": null,
      "_view_module": "@jupyter-widgets/base",
      "_view_module_version": "1.2.0",
      "_view_name": "LayoutView",
      "align_content": null,
      "align_items": null,
      "align_self": null,
      "border": null,
      "bottom": null,
      "display": null,
      "flex": null,
      "flex_flow": null,
      "grid_area": null,
      "grid_auto_columns": null,
      "grid_auto_flow": null,
      "grid_auto_rows": null,
      "grid_column": null,
      "grid_gap": null,
      "grid_row": null,
      "grid_template_areas": null,
      "grid_template_columns": null,
      "grid_template_rows": null,
      "height": null,
      "justify_content": null,
      "justify_items": null,
      "left": null,
      "margin": null,
      "max_height": null,
      "max_width": null,
      "min_height": null,
      "min_width": null,
      "object_fit": null,
      "object_position": null,
      "order": null,
      "overflow": null,
      "overflow_x": null,
      "overflow_y": null,
      "padding": null,
      "right": null,
      "top": null,
      "visibility": null,
      "width": null
     }
    },
    "bb486d75357e4bd2a422fac28d6c8f7d": {
     "model_module": "@jupyter-widgets/controls",
     "model_module_version": "1.5.0",
     "model_name": "ProgressStyleModel",
     "state": {
      "_model_module": "@jupyter-widgets/controls",
      "_model_module_version": "1.5.0",
      "_model_name": "ProgressStyleModel",
      "_view_count": null,
      "_view_module": "@jupyter-widgets/base",
      "_view_module_version": "1.2.0",
      "_view_name": "StyleView",
      "bar_color": null,
      "description_width": ""
     }
    },
    "c201b17bebae49a1a54f938ad47939f0": {
     "model_module": "@jupyter-widgets/controls",
     "model_module_version": "1.5.0",
     "model_name": "LabelModel",
     "state": {
      "_dom_classes": [],
      "_model_module": "@jupyter-widgets/controls",
      "_model_module_version": "1.5.0",
      "_model_name": "LabelModel",
      "_view_count": null,
      "_view_module": "@jupyter-widgets/controls",
      "_view_module_version": "1.5.0",
      "_view_name": "LabelView",
      "description": "",
      "description_tooltip": null,
      "layout": "IPY_MODEL_ca6690b9f368419b9d00f1d9eab6d017",
      "placeholder": "​",
      "style": "IPY_MODEL_5d2bb9b2944746ad8b13ba556ec136b4",
      "value": "Waiting for wandb.init()...\r"
     }
    },
    "ca6690b9f368419b9d00f1d9eab6d017": {
     "model_module": "@jupyter-widgets/base",
     "model_module_version": "1.2.0",
     "model_name": "LayoutModel",
     "state": {
      "_model_module": "@jupyter-widgets/base",
      "_model_module_version": "1.2.0",
      "_model_name": "LayoutModel",
      "_view_count": null,
      "_view_module": "@jupyter-widgets/base",
      "_view_module_version": "1.2.0",
      "_view_name": "LayoutView",
      "align_content": null,
      "align_items": null,
      "align_self": null,
      "border": null,
      "bottom": null,
      "display": null,
      "flex": null,
      "flex_flow": null,
      "grid_area": null,
      "grid_auto_columns": null,
      "grid_auto_flow": null,
      "grid_auto_rows": null,
      "grid_column": null,
      "grid_gap": null,
      "grid_row": null,
      "grid_template_areas": null,
      "grid_template_columns": null,
      "grid_template_rows": null,
      "height": null,
      "justify_content": null,
      "justify_items": null,
      "left": null,
      "margin": null,
      "max_height": null,
      "max_width": null,
      "min_height": null,
      "min_width": null,
      "object_fit": null,
      "object_position": null,
      "order": null,
      "overflow": null,
      "overflow_x": null,
      "overflow_y": null,
      "padding": null,
      "right": null,
      "top": null,
      "visibility": null,
      "width": null
     }
    },
    "cc84a444195442f9a19c7d310f2f8762": {
     "model_module": "@jupyter-widgets/base",
     "model_module_version": "1.2.0",
     "model_name": "LayoutModel",
     "state": {
      "_model_module": "@jupyter-widgets/base",
      "_model_module_version": "1.2.0",
      "_model_name": "LayoutModel",
      "_view_count": null,
      "_view_module": "@jupyter-widgets/base",
      "_view_module_version": "1.2.0",
      "_view_name": "LayoutView",
      "align_content": null,
      "align_items": null,
      "align_self": null,
      "border": null,
      "bottom": null,
      "display": null,
      "flex": null,
      "flex_flow": null,
      "grid_area": null,
      "grid_auto_columns": null,
      "grid_auto_flow": null,
      "grid_auto_rows": null,
      "grid_column": null,
      "grid_gap": null,
      "grid_row": null,
      "grid_template_areas": null,
      "grid_template_columns": null,
      "grid_template_rows": null,
      "height": null,
      "justify_content": null,
      "justify_items": null,
      "left": null,
      "margin": null,
      "max_height": null,
      "max_width": null,
      "min_height": null,
      "min_width": null,
      "object_fit": null,
      "object_position": null,
      "order": null,
      "overflow": null,
      "overflow_x": null,
      "overflow_y": null,
      "padding": null,
      "right": null,
      "top": null,
      "visibility": null,
      "width": null
     }
    },
    "ebeb67ca5d544260aaca0417eefba711": {
     "model_module": "@jupyter-widgets/base",
     "model_module_version": "1.2.0",
     "model_name": "LayoutModel",
     "state": {
      "_model_module": "@jupyter-widgets/base",
      "_model_module_version": "1.2.0",
      "_model_name": "LayoutModel",
      "_view_count": null,
      "_view_module": "@jupyter-widgets/base",
      "_view_module_version": "1.2.0",
      "_view_name": "LayoutView",
      "align_content": null,
      "align_items": null,
      "align_self": null,
      "border": null,
      "bottom": null,
      "display": null,
      "flex": null,
      "flex_flow": null,
      "grid_area": null,
      "grid_auto_columns": null,
      "grid_auto_flow": null,
      "grid_auto_rows": null,
      "grid_column": null,
      "grid_gap": null,
      "grid_row": null,
      "grid_template_areas": null,
      "grid_template_columns": null,
      "grid_template_rows": null,
      "height": null,
      "justify_content": null,
      "justify_items": null,
      "left": null,
      "margin": null,
      "max_height": null,
      "max_width": null,
      "min_height": null,
      "min_width": null,
      "object_fit": null,
      "object_position": null,
      "order": null,
      "overflow": null,
      "overflow_x": null,
      "overflow_y": null,
      "padding": null,
      "right": null,
      "top": null,
      "visibility": null,
      "width": null
     }
    },
    "f7be4037e4ee49448aa8f5512716316f": {
     "model_module": "@jupyter-widgets/controls",
     "model_module_version": "1.5.0",
     "model_name": "LabelModel",
     "state": {
      "_dom_classes": [],
      "_model_module": "@jupyter-widgets/controls",
      "_model_module_version": "1.5.0",
      "_model_name": "LabelModel",
      "_view_count": null,
      "_view_module": "@jupyter-widgets/controls",
      "_view_module_version": "1.5.0",
      "_view_name": "LabelView",
      "description": "",
      "description_tooltip": null,
      "layout": "IPY_MODEL_6da57f0e275642c3a8270a1a5346c05f",
      "placeholder": "​",
      "style": "IPY_MODEL_5898b7c05a644e60965f790279771824",
      "value": "0.001 MB of 0.001 MB uploaded (0.000 MB deduped)\r"
     }
    }
   }
  }
 },
 "nbformat": 4,
 "nbformat_minor": 1
}
